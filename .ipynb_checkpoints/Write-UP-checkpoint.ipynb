{
 "cells": [
  {
   "cell_type": "code",
   "execution_count": 1,
   "metadata": {},
   "outputs": [
    {
     "name": "stdout",
     "output_type": "stream",
     "text": [
      "Overwriting README.md\n"
     ]
    }
   ],
   "source": [
    "%%writefile README.md\n",
    "\n",
    "# PID Controller\n",
    "---\n",
    "This project is an implementation of PID controller to control a self driving car around track in simulator. The simulator feed the system with the cross track error `cte` to compute steering angle along the track.\n",
    "\n",
    "## PID \n",
    "PID is a closed loop feedback controller that calculate the output signal based on the difference between current state of the object and desired state.\n",
    "\n",
    "\n",
    "* P(proportional): the steering angle value is calculated proportional to the cross track error(cte) that represent the offset between the car and center of the lane. By using P controller only the vehicle will overshoot to the desired point.\n",
    "* D(integral): to avoid overshooting and decrease output steering angle the derivative term repose is proportional to the rate of change of the `cte` which will increase the controller responds. However by using PD controller the vehicle wiggles along the track that might caused by the vehicle drift.\n",
    "\n",
    "* I(derivative): integral component added in order to compensate the vehicle drift as it handle any small error to increase slowly by summing the error over time.\n",
    "\n",
    "## System Tuning\n",
    "I tuned the PID controller by setting D &I terms to zero and start to tune P until I found the car drive itself to 15% of the track with high osculation. then I added term D and I increased to 4 and the car can finish the track on 28m/s speed with wiggling behavior. After adding I term with small value gain the car could accomplish the track successfully as following.\n",
    "```\n",
    "  double kp_steer=.07;\n",
    "  double ki_steer=.005;;\n",
    "  double kd_steer=2;\n",
    "```\n",
    "\n",
    "## Dependencies\n",
    "\n",
    "* cmake >= 3.5\n",
    " * All OSes: [click here for installation instructions](https://cmake.org/install/)\n",
    "* make >= 4.1(mac, linux), 3.81(Windows)\n",
    "  * Linux: make is installed by default on most Linux distros\n",
    "  * Mac: [install Xcode command line tools to get make](https://developer.apple.com/xcode/features/)\n",
    "  * Windows: [Click here for installation instructions](http://gnuwin32.sourceforge.net/packages/make.htm)\n",
    "* gcc/g++ >= 5.4\n",
    "  * Linux: gcc / g++ is installed by default on most Linux distros\n",
    "  * Mac: same deal as make - [install Xcode command line tools]((https://developer.apple.com/xcode/features/)\n",
    "  * Windows: recommend using [MinGW](http://www.mingw.org/)\n",
    "* [uWebSockets](https://github.com/uWebSockets/uWebSockets)\n",
    "  * Run either `install-mac.sh` or `install-ubuntu.sh`.\n",
    "  * If you install from source, checkout to commit `e94b6e1`, i.e.\n",
    "    ```\n",
    "    git clone https://github.com/uWebSockets/uWebSockets\n",
    "    cd uWebSockets\n",
    "    git checkout e94b6e1\n",
    "    ```\n",
    "    Some function signatures have changed in v0.14.x. See [this PR](https://github.com/udacity/CarND-MPC-Project/pull/3) for more details.\n",
    "\n",
    "* Simulator. You can download these from the [releases tab](https://github.com/udacity/self-driving-car-sim/releases).\n",
    "* Not a dependency but read the [DATA.md](./DATA.md) for a description of the data sent back from the simulator.\n",
    "\n",
    "\n",
    "## Basic Build Instructions\n",
    "\n",
    "1. Clone this repo.\n",
    "2. Make a build directory: `mkdir build && cd build`\n",
    "3. Compile: `cmake .. && make`\n",
    "4. Run it: `./mpc`.\n",
    "\n",
    "\n",
    "\n",
    "\n",
    " \n",
    "    \n",
    "\n",
    "\n"
   ]
  },
  {
   "cell_type": "code",
   "execution_count": null,
   "metadata": {
    "collapsed": true
   },
   "outputs": [],
   "source": []
  }
 ],
 "metadata": {
  "kernelspec": {
   "display_name": "Python 3",
   "language": "python",
   "name": "python3"
  },
  "language_info": {
   "codemirror_mode": {
    "name": "ipython",
    "version": 3
   },
   "file_extension": ".py",
   "mimetype": "text/x-python",
   "name": "python",
   "nbconvert_exporter": "python",
   "pygments_lexer": "ipython3",
   "version": "3.6.2"
  }
 },
 "nbformat": 4,
 "nbformat_minor": 2
}
